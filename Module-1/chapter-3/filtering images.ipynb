{
 "cells": [
  {
   "cell_type": "markdown",
   "metadata": {},
   "source": [
    "# channel mixing\n",
    "\n",
    "it is technique for remapping colors. \n",
    "the color at destination pixel is function of the color at the corresponding source pixel(only)\n",
    "\n",
    "\n",
    "(red, cyan): Note that red and cyan can mix to make grays. This color space resembles Technicolor Process 2 and CGA Palette 3.\n",
    "• RGV (red, green, value): Note that red and green cannot mix to make grays. So we need to specify value or whiteness as well. This color space resembles Technicolor Process 1. \n",
    "• CMV (cyan, magenta, value): Note that cyan and magenta cannot mix to make grays. So we need to specify value or whiteness as well. This color space resembles CGA Palette 1."
   ]
  },
  {
   "cell_type": "code",
   "execution_count": null,
   "metadata": {},
   "outputs": [],
   "source": []
  },
  {
   "cell_type": "code",
   "execution_count": 18,
   "metadata": {},
   "outputs": [
    {
     "name": "stdout",
     "output_type": "stream",
     "text": [
      "(720, 1280, 3)\n",
      "2764800\n",
      "uint8\n"
     ]
    }
   ],
   "source": [
    "import cv2\n",
    "\n",
    "img=cv2.imread('ritu.jpg')\n",
    "print(img.shape)\n",
    "print(img.size)\n",
    "print(img.dtype)\n",
    "cv2.namedWindow(\"filtering\")\n",
    "cv2.imshow(\"filtering\",img)\n",
    "cv2.waitKey(0);\n",
    "cv2.destroyAllWindows()"
   ]
  },
  {
   "cell_type": "markdown",
   "metadata": {},
   "source": [
    "# STIMULATING RC COLOR SPACE\n",
    "\n"
   ]
  },
  {
   "cell_type": "code",
   "execution_count": 30,
   "metadata": {},
   "outputs": [],
   "source": [
    "import numpy as np\n",
    "\n",
    "import cv2\n",
    "\n",
    "img=cv2.imread('ritu.jpg')\n",
    "dst=img#key step\n",
    "\n",
    "def rc(src,dst):\n",
    "    b,g,r=cv2.split(src)\n",
    "    cv2.addWeighted(b,0.5,g,0.5,0,b)\n",
    "    cv2.merge((b,b,r),dst)\n",
    "    cv2.imwrite(\"RC.jpg\",dst)\n",
    "    \n",
    "\n",
    "rc(img,dst)\n"
   ]
  },
  {
   "cell_type": "markdown",
   "metadata": {},
   "source": [
    "# STIMULATING RGV color space\n",
    "intiuition is:\n",
    "we should set value of b channel=0;\n",
    "but it would discard the blue component of ligthness\n",
    "thus turns gray and pale blue to yellow\n",
    "therefore we want to keep gray and turn the pale blue to gray\n"
   ]
  },
  {
   "cell_type": "code",
   "execution_count": 31,
   "metadata": {},
   "outputs": [],
   "source": [
    "import cv2\n",
    "\n",
    "img=cv2.imread('ritu.jpg')\n",
    "dst=img#key step\n",
    "\n",
    "def rgv(src,dst):\n",
    "    b,g,r=cv2.split(src)\n",
    "    cv2.min(b,g,b)\n",
    "    cv2.min(b,r,b)\n",
    "    cv2.merge((b,g,r),dst)\n",
    "    cv2.imwrite(\"rgv.jpg\",dst)\n",
    "    \n",
    "rgv(img,dst)"
   ]
  },
  {
   "cell_type": "markdown",
   "metadata": {},
   "source": [
    "# simulation of CMV color space\n",
    "\n",
    "\n",
    "it is similar to rgv but in this the desaturated part is yellow instead of blue. TO DESATURATE THE YELLOW ,we should increase the value of per-pixel maximun of B,g,r,\n",
    "\n",
    "\n"
   ]
  },
  {
   "cell_type": "code",
   "execution_count": 33,
   "metadata": {},
   "outputs": [],
   "source": [
    "import cv2\n",
    "\n",
    "img=cv2.imread('ritu.jpg')\n",
    "dst=img#key step\n",
    "\n",
    "def cmv(src,dst):\n",
    "    b,g,r=cv2.split(src)\n",
    "    cv2.max(b,g,b)\n",
    "    cv2.max(b,r,b)\n",
    "    cv2.merge((b,g,r),dst)\n",
    "    cv2.imwrite(\"cmv.jpg\",dst)\n",
    "            \n",
    "cmv(img,dst)"
   ]
  }
 ],
 "metadata": {
  "kernelspec": {
   "display_name": "Python 3",
   "language": "python",
   "name": "python3"
  },
  "language_info": {
   "codemirror_mode": {
    "name": "ipython",
    "version": 3
   },
   "file_extension": ".py",
   "mimetype": "text/x-python",
   "name": "python",
   "nbconvert_exporter": "python",
   "pygments_lexer": "ipython3",
   "version": "3.7.4"
  }
 },
 "nbformat": 4,
 "nbformat_minor": 2
}
