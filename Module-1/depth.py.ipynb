{
 "cells": [
  {
   "cell_type": "code",
   "execution_count": 5,
   "metadata": {},
   "outputs": [],
   "source": [
    "import numpy as np\n",
    "\n",
    "# Devices. \n",
    "CV_CAP_OPENNI = 900 # OpenNI (for Microsoft Kinect) \n",
    "CV_CAP_OPENNI_ASUS = 910 # OpenNI (for Asus Xtion) \n",
    "# Channels of an OpenNI-compatible depth generator. \n",
    "CV_CAP_OPENNI_DEPTH_MAP = 0 # Depth values in mm (CV_16UC1) \n",
    "CV_CAP_OPENNI_POINT_CLOUD_MAP = 3 # XYZ in meters (CV_32FC3) \n",
    "CV_CAP_OPENNI_DISPARITY_MAP = 2 # Disparity in pixels (CV_8UC1) \n",
    "CV_CAP_OPENNI_DISPARITY_MAP_32F = 3 # Disparity in pixels (CV_32FC1) \n",
    "CV_CAP_OPENNI_VALID_DEPTH_MASK = 4 # CV_8UC1 \n",
    "# Channels of an OpenNI-compatible RGB image generator. \n",
    "CV_CAP_OPENNI_BGR_IMAGE = 5 \n",
    "CV_CAP_OPENNI_GRAY_IMAGE = 6 \n",
    "\n",
    "\"\"\"\n",
    "import cv2\n",
    "    \n",
    "cap=cv2.VideoCapture(0)\n",
    "\n",
    "while (True):\n",
    "    \n",
    "    reg,frame=cap.read()\n",
    "    \n",
    "    gray=cv2.cvtColor(frame,cv2.CV_32FC1)\n",
    "    \n",
    "    cv2.imshow('point cloud map',gray)\n",
    "    \n",
    "    if cv2.waitKey(20) & 0xff==ord('q'):\n",
    "        break\n",
    "        \n",
    "cap.release()\n",
    "cv2.destroyWindow('point cloud map')\n",
    "\n",
    "\"\"\"\n",
    "\n",
    "import numpy as np\n",
    "\n",
    "\n",
    "def createmedianmask(disparitymap,validdepthmask,rect=None):\n",
    "    \"\"\"return a mask selecting the median layer,plus shadows.\"\"\"\n",
    "    \n",
    "    if rect is not None:\n",
    "        x,y,w,h=rect\n",
    "        disparitymap=disparitymap[y:y+h,x:x+w]\n",
    "        \n",
    "        validdepthmask=validdepthmask[y:y+h,x:x+w]\n",
    "        \n",
    "    median=np.median(disparitymap)\n",
    "    return np.where((validdepthmask==0)|\\(abs(disparitymap-median)<12),1.0,0.0)\n",
    "\n",
    "\n"
   ]
  }
 ],
 "metadata": {
  "kernelspec": {
   "display_name": "Python 3",
   "language": "python",
   "name": "python3"
  },
  "language_info": {
   "codemirror_mode": {
    "name": "ipython",
    "version": 3
   },
   "file_extension": ".py",
   "mimetype": "text/x-python",
   "name": "python",
   "nbconvert_exporter": "python",
   "pygments_lexer": "ipython3",
   "version": "3.7.4"
  }
 },
 "nbformat": 4,
 "nbformat_minor": 2
}
